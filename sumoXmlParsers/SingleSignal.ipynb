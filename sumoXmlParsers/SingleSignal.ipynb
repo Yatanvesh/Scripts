{
 "cells": [
  {
   "cell_type": "code",
   "execution_count": 3,
   "metadata": {},
   "outputs": [],
   "source": [
    "import xmltodict\n",
    "import json\n",
    "import fnmatch\n",
    "import os, sys\n",
    "import sumolib\n",
    "if 'SUMO_HOME' in os.environ:\n",
    "    tools = os.path.join(os.environ['SUMO_HOME'], 'tools')\n",
    "    sys.path.append(tools)\n",
    "else:\n",
    "    sys.exit(\"please declare environment variable 'SUMO_HOME'\")\n"
   ]
  },
  {
   "cell_type": "code",
   "execution_count": 4,
   "metadata": {},
   "outputs": [],
   "source": [
    "# id=\"29194675\" type=\"traffic_light\" x=\"732.41\" y=\"608.63\"\n",
    "# id=\"1827996501\" type=\"traffic_light\" x=\"1105.17\" y=\"861.78\"\n",
    "# id=\"1827996550\" type=\"traffic_light\" x=\"1094.11\" y=\"876.23\"\n",
    "# lightData ={\n",
    "#     \"29194675\":{'x':'732.41','y':'608.63'},\n",
    "#     \"1827996501\":{'x':'1105.17','y':'861.78'},\n",
    "#     \"1827996550\":{'x':'1094.11','y':'876.23'}\n",
    "# }\n"
   ]
  },
  {
   "cell_type": "code",
   "execution_count": 11,
   "metadata": {},
   "outputs": [],
   "source": [
    "netFile = ''\n",
    "for file in os.listdir('.'):\n",
    "    if fnmatch.fnmatch(file, '*.net.xml'):\n",
    "        netFile = file\n",
    "        \n",
    "net = sumolib.net.readNet(netFile)"
   ]
  },
  {
   "cell_type": "code",
   "execution_count": 34,
   "metadata": {},
   "outputs": [],
   "source": [
    "# lightData ={\n",
    "#     'x':'732.41',\n",
    "#     'y':'608.63'\n",
    "# }\n",
    "# lightData ={\n",
    "#     'x':'1105.17',\n",
    "#     'y':\"861.78\"\n",
    "# }\n",
    "lightData ={\n",
    "    'x':'1094.11',\n",
    "    'y':'876.23'\n",
    "}\n",
    "\n",
    "\n",
    "lng,lat = net.convertXY2LonLat(float(lightData['y']), float(lightData['x']))\n",
    "\n",
    "id ='2'\n",
    "fileName = 'traffic'+id+'.signal.xml'\n",
    "outputFileName = 'signal_output'+id+'.json'"
   ]
  },
  {
   "cell_type": "code",
   "execution_count": 35,
   "metadata": {},
   "outputs": [],
   "source": [
    "with open(fileName) as fd:\n",
    "    signalFile = xmltodict.parse(fd.read())"
   ]
  },
  {
   "cell_type": "code",
   "execution_count": 36,
   "metadata": {},
   "outputs": [],
   "source": [
    "signals = signalFile['tlsStates']['tlsState']\n",
    "\n"
   ]
  },
  {
   "cell_type": "code",
   "execution_count": 37,
   "metadata": {},
   "outputs": [],
   "source": [
    "output = []\n",
    "for i in range(0, len(signals), 5):\n",
    "    signal = signals[i]\n",
    "    obj = {\"id\": signal['@id'], \"lat\":lat, 'lng':lng, 'state':signal['@state']}\n",
    "        \n",
    "    info = {'time':signal['@time'],'signal': obj}\n",
    "    output.append(info)"
   ]
  },
  {
   "cell_type": "code",
   "execution_count": 38,
   "metadata": {},
   "outputs": [],
   "source": [
    "with open(outputFileName, 'w', encoding='utf-8') as f:\n",
    "    json.dump(output, f, ensure_ascii=False, indent=4)"
   ]
  },
  {
   "cell_type": "code",
   "execution_count": 40,
   "metadata": {},
   "outputs": [
    {
     "data": {
      "text/plain": [
       "749"
      ]
     },
     "execution_count": 40,
     "metadata": {},
     "output_type": "execute_result"
    }
   ],
   "source": []
  },
  {
   "cell_type": "code",
   "execution_count": null,
   "metadata": {},
   "outputs": [],
   "source": []
  },
  {
   "cell_type": "code",
   "execution_count": null,
   "metadata": {},
   "outputs": [],
   "source": []
  }
 ],
 "metadata": {
  "kernelspec": {
   "display_name": "Python 3",
   "language": "python",
   "name": "python3"
  },
  "language_info": {
   "codemirror_mode": {
    "name": "ipython",
    "version": 3
   },
   "file_extension": ".py",
   "mimetype": "text/x-python",
   "name": "python",
   "nbconvert_exporter": "python",
   "pygments_lexer": "ipython3",
   "version": "3.7.4"
  }
 },
 "nbformat": 4,
 "nbformat_minor": 2
}
